{
 "cells": [
  {
   "cell_type": "code",
   "execution_count": 67,
   "metadata": {},
   "outputs": [],
   "source": [
    "import pandas as pd \n",
    "import matplotlib.pyplot as plt\n",
    "%matplotlib inline  "
   ]
  },
  {
   "cell_type": "markdown",
   "metadata": {},
   "source": [
    "## Import Data, Explore Types "
   ]
  },
  {
   "cell_type": "code",
   "execution_count": 68,
   "metadata": {},
   "outputs": [
    {
     "data": {
      "text/html": [
       "<div>\n",
       "<style scoped>\n",
       "    .dataframe tbody tr th:only-of-type {\n",
       "        vertical-align: middle;\n",
       "    }\n",
       "\n",
       "    .dataframe tbody tr th {\n",
       "        vertical-align: top;\n",
       "    }\n",
       "\n",
       "    .dataframe thead th {\n",
       "        text-align: right;\n",
       "    }\n",
       "</style>\n",
       "<table border=\"1\" class=\"dataframe\">\n",
       "  <thead>\n",
       "    <tr style=\"text-align: right;\">\n",
       "      <th></th>\n",
       "      <th>id</th>\n",
       "      <th>date</th>\n",
       "      <th>neighborhood</th>\n",
       "      <th>street</th>\n",
       "      <th>num_samples</th>\n",
       "      <th>readings</th>\n",
       "      <th>chlorine_avg</th>\n",
       "      <th>num_no_cl</th>\n",
       "      <th>num_low_cl</th>\n",
       "      <th>num_rule_cl</th>\n",
       "      <th>num_excess_cl</th>\n",
       "      <th>url</th>\n",
       "      <th>delegacion_id</th>\n",
       "    </tr>\n",
       "  </thead>\n",
       "  <tbody>\n",
       "    <tr>\n",
       "      <th>0</th>\n",
       "      <td>1</td>\n",
       "      <td>2019-04-02</td>\n",
       "      <td>ARBOLEDAS DEL SUR (EX-EJIDOS DE HUIPULCO)</td>\n",
       "      <td>AJAX y CERRO PORTENO</td>\n",
       "      <td>1</td>\n",
       "      <td>1</td>\n",
       "      <td>0.5</td>\n",
       "      <td>0</td>\n",
       "      <td>0</td>\n",
       "      <td>1</td>\n",
       "      <td>0</td>\n",
       "      <td>http://data.sacmex.cdmx.gob.mx/aplicaciones/ca...</td>\n",
       "      <td>Tlalpan</td>\n",
       "    </tr>\n",
       "    <tr>\n",
       "      <th>1</th>\n",
       "      <td>2</td>\n",
       "      <td>2019-04-02</td>\n",
       "      <td>ARBOLEDAS DEL SUR (EX-EJIDOS DE HUIPULCO)</td>\n",
       "      <td>BOCA JUNIORS y COSMOS</td>\n",
       "      <td>1</td>\n",
       "      <td>1</td>\n",
       "      <td>0.5</td>\n",
       "      <td>0</td>\n",
       "      <td>0</td>\n",
       "      <td>1</td>\n",
       "      <td>0</td>\n",
       "      <td>http://data.sacmex.cdmx.gob.mx/aplicaciones/ca...</td>\n",
       "      <td>Tlalpan</td>\n",
       "    </tr>\n",
       "    <tr>\n",
       "      <th>2</th>\n",
       "      <td>3</td>\n",
       "      <td>2019-04-02</td>\n",
       "      <td>ARBOLEDAS DEL SUR (EX-EJIDOS DE HUIPULCO)</td>\n",
       "      <td>COLO COLO y DE LAS TORRES</td>\n",
       "      <td>1</td>\n",
       "      <td>1</td>\n",
       "      <td>0.4</td>\n",
       "      <td>0</td>\n",
       "      <td>0</td>\n",
       "      <td>1</td>\n",
       "      <td>0</td>\n",
       "      <td>http://data.sacmex.cdmx.gob.mx/aplicaciones/ca...</td>\n",
       "      <td>Tlalpan</td>\n",
       "    </tr>\n",
       "  </tbody>\n",
       "</table>\n",
       "</div>"
      ],
      "text/plain": [
       "   id        date                               neighborhood  \\\n",
       "0   1  2019-04-02  ARBOLEDAS DEL SUR (EX-EJIDOS DE HUIPULCO)   \n",
       "1   2  2019-04-02  ARBOLEDAS DEL SUR (EX-EJIDOS DE HUIPULCO)   \n",
       "2   3  2019-04-02  ARBOLEDAS DEL SUR (EX-EJIDOS DE HUIPULCO)   \n",
       "\n",
       "                      street  num_samples  readings  chlorine_avg  num_no_cl  \\\n",
       "0       AJAX y CERRO PORTENO            1         1           0.5          0   \n",
       "1      BOCA JUNIORS y COSMOS            1         1           0.5          0   \n",
       "2  COLO COLO y DE LAS TORRES            1         1           0.4          0   \n",
       "\n",
       "   num_low_cl  num_rule_cl  num_excess_cl  \\\n",
       "0           0            1              0   \n",
       "1           0            1              0   \n",
       "2           0            1              0   \n",
       "\n",
       "                                                 url delegacion_id  \n",
       "0  http://data.sacmex.cdmx.gob.mx/aplicaciones/ca...       Tlalpan  \n",
       "1  http://data.sacmex.cdmx.gob.mx/aplicaciones/ca...       Tlalpan  \n",
       "2  http://data.sacmex.cdmx.gob.mx/aplicaciones/ca...       Tlalpan  "
      ]
     },
     "execution_count": 68,
     "metadata": {},
     "output_type": "execute_result"
    }
   ],
   "source": [
    "#importing data from the csv, changing the delegacion id to name of delegacion and changing headings for readability\n",
    "data = pd.read_csv(\"Calidad.csv\") \n",
    "data.replace({'delegacion_id': {1: 'Alvaro Obregon', 2: 'Azcapotzalco', 3:'Benito Juarez',4:'Coyoacan', 5:'Cuajimalpa', 6:'Cuauhtemoc', 7:'Estado de Mexico', 8: 'Gustavo A. Madero', 9:'Iztacalco', 10:'Iztapalapa', 11:'Magdalena Contreras', 12:'Miguel Hidalgo', 13:'Milpa Alta', 14:'Tlahuac', 15:'Tlalpan', 16:'Venustiano Carranza', 17:'Villa Carmela', 18:'Xochimilco'}}, inplace=True)\n",
    "data.rename(index=str, columns={\"average\": \"chlorine_avg\"}, inplace=True)\n",
    "data.head(3)"
   ]
  },
  {
   "cell_type": "code",
   "execution_count": 69,
   "metadata": {},
   "outputs": [
    {
     "data": {
      "text/plain": [
       "id                 int64\n",
       "date              object\n",
       "neighborhood      object\n",
       "street            object\n",
       "num_samples        int64\n",
       "readings           int64\n",
       "chlorine_avg     float64\n",
       "num_no_cl          int64\n",
       "num_low_cl         int64\n",
       "num_rule_cl        int64\n",
       "num_excess_cl      int64\n",
       "url               object\n",
       "delegacion_id     object\n",
       "dtype: object"
      ]
     },
     "execution_count": 69,
     "metadata": {},
     "output_type": "execute_result"
    }
   ],
   "source": [
    "#Data Summaries:\n",
    "data.dtypes"
   ]
  },
  {
   "cell_type": "code",
   "execution_count": 70,
   "metadata": {},
   "outputs": [],
   "source": [
    "#Convert date to datetime format for easier manipulation later \n",
    "data['date']=pd.to_datetime(data.date)"
   ]
  },
  {
   "cell_type": "markdown",
   "metadata": {},
   "source": [
    "## Identifying and Removing Outliers "
   ]
  },
  {
   "cell_type": "code",
   "execution_count": 71,
   "metadata": {},
   "outputs": [
    {
     "data": {
      "text/plain": [
       "count    67381.000000\n",
       "mean         1.140709\n",
       "std          4.383825\n",
       "min          0.000000\n",
       "25%          0.500000\n",
       "50%          0.900000\n",
       "75%          1.200000\n",
       "max         73.500000\n",
       "Name: chlorine_avg, dtype: float64"
      ]
     },
     "execution_count": 71,
     "metadata": {},
     "output_type": "execute_result"
    }
   ],
   "source": [
    "#Average Chlorine level\n",
    "data.chlorine_avg.describe()"
   ]
  },
  {
   "cell_type": "code",
   "execution_count": 118,
   "metadata": {},
   "outputs": [
    {
     "data": {
      "text/plain": [
       "Text(0.5,1,'Distribution of Average Chlorine Level in Household Water Samples')"
      ]
     },
     "execution_count": 118,
     "metadata": {},
     "output_type": "execute_result"
    },
    {
     "data": {
      "image/png": "[encoded data removed]",
      "text/plain": [
       "<Figure size 432x288 with 1 Axes>"
      ]
     },
     "metadata": {},
     "output_type": "display_data"
    }
   ],
   "source": [
    "#Distribution of Chlorine_avg  \n",
    "plt.boxplot(data.loc[:,'chlorine_avg'])\n",
    "plt.ylabel('ppm')\n",
    "plt.title('Distribution of Average Chlorine Level in Household Water Samples')"
   ]
  },
  {
   "cell_type": "code",
   "execution_count": 73,
   "metadata": {},
   "outputs": [
    {
     "data": {
      "text/plain": [
       "array([73.5 , 37.55, 37.  , 37.35, 49.17])"
      ]
     },
     "execution_count": 73,
     "metadata": {},
     "output_type": "execute_result"
    }
   ],
   "source": [
    "#unique values of the outliers \n",
    "data.loc[data.chlorine_avg > 5,'chlorine_avg'].unique()"
   ]
  },
  {
   "cell_type": "code",
   "execution_count": 74,
   "metadata": {},
   "outputs": [
    {
     "data": {
      "text/plain": [
       "246"
      ]
     },
     "execution_count": 74,
     "metadata": {},
     "output_type": "execute_result"
    }
   ],
   "source": [
    "#Number of outliers in the data \n",
    "data.loc[data.chlorine_avg > 5,'chlorine_avg'].count()"
   ]
  },
  {
   "cell_type": "code",
   "execution_count": 75,
   "metadata": {},
   "outputs": [],
   "source": [
    "#dropping outliers\n",
    "data.drop(data[data.chlorine_avg>5].index, inplace=True)"
   ]
  },
  {
   "cell_type": "code",
   "execution_count": 119,
   "metadata": {},
   "outputs": [
    {
     "data": {
      "text/plain": [
       "Text(0.5,1,'Distribution of Average Chlorine Level in Household Water Samples')"
      ]
     },
     "execution_count": 119,
     "metadata": {},
     "output_type": "execute_result"
    },
    {
     "data": {
      "image/png": "[encoded data removed]",
      "text/plain": [
       "<Figure size 432x288 with 1 Axes>"
      ]
     },
     "metadata": {},
     "output_type": "display_data"
    }
   ],
   "source": [
    "#New distribution of the chlorine average values without the outliers \n",
    "plt.boxplot(data.loc[:,'chlorine_avg'])\n",
    "plt.ylabel('ppm')\n",
    "plt.title('Distribution of Average Chlorine Level in Household Water Samples')"
   ]
  },
  {
   "cell_type": "markdown",
   "metadata": {},
   "source": [
    "#### From the distbution of the chlorine levels we see that there are several outliers (246 values). The outliers are the same number and indicate that these are likely not accurate readings but some systematic glitch in data input."
   ]
  },
  {
   "cell_type": "markdown",
   "metadata": {},
   "source": [
    "## Plotting Number of Samples and Classification of Samples over Time "
   ]
  },
  {
   "cell_type": "markdown",
   "metadata": {},
   "source": [
    "#### cusory glance at the data shows that the num_readings information is often zero for rows that otherwise have data, as such the num_samples data is being ignored and each row of information is being taken as one sample"
   ]
  },
  {
   "cell_type": "code",
   "execution_count": 113,
   "metadata": {},
   "outputs": [
    {
     "data": {
      "text/plain": [
       "Text(0.5,1,'Number of samples taken over time')"
      ]
     },
     "execution_count": 113,
     "metadata": {},
     "output_type": "execute_result"
    },
    {
     "data": {
      "image/png": "[encoded data removed]",
      "text/plain": [
       "<Figure size 432x288 with 1 Axes>"
      ]
     },
     "metadata": {},
     "output_type": "display_data"
    }
   ],
   "source": [
    "samples_per_year = {'year':[],'count':[]}\n",
    "for year in [2011,2012,2013,2014,2015,2016,2017,2018]:\n",
    "    samples_per_year['year'].append(year)\n",
    "    samples_per_year['count'].append(data.loc[data['date'].dt.year == year,'chlorine_avg'].count())\n",
    "    \n",
    "df = pd.DataFrame(samples_per_year)\n",
    "plt.plot(df.loc[:,'year'],df.loc[:,'count'])\n",
    "plt.xlabel('years')\n",
    "plt.ylabel('number of samples collected')\n",
    "plt.title('Number of samples taken over time')"
   ]
  },
  {
   "cell_type": "markdown",
   "metadata": {},
   "source": [
    "#### There is a general downward trend seen in the number of samples taken from when the program began in 2011 to the present "
   ]
  },
  {
   "cell_type": "code",
   "execution_count": 203,
   "metadata": {},
   "outputs": [
    {
     "data": {
      "text/html": [
       "<div>\n",
       "<style scoped>\n",
       "    .dataframe tbody tr th:only-of-type {\n",
       "        vertical-align: middle;\n",
       "    }\n",
       "\n",
       "    .dataframe tbody tr th {\n",
       "        vertical-align: top;\n",
       "    }\n",
       "\n",
       "    .dataframe thead th {\n",
       "        text-align: right;\n",
       "    }\n",
       "</style>\n",
       "<table border=\"1\" class=\"dataframe\">\n",
       "  <thead>\n",
       "    <tr style=\"text-align: right;\">\n",
       "      <th></th>\n",
       "      <th>year</th>\n",
       "      <th>zero</th>\n",
       "      <th>low</th>\n",
       "      <th>good</th>\n",
       "      <th>high</th>\n",
       "      <th>sum</th>\n",
       "    </tr>\n",
       "  </thead>\n",
       "  <tbody>\n",
       "    <tr>\n",
       "      <th>0</th>\n",
       "      <td>2011</td>\n",
       "      <td>0.026906</td>\n",
       "      <td>0.007397</td>\n",
       "      <td>0.950109</td>\n",
       "      <td>0.015588</td>\n",
       "      <td>1.0</td>\n",
       "    </tr>\n",
       "    <tr>\n",
       "      <th>1</th>\n",
       "      <td>2012</td>\n",
       "      <td>0.071594</td>\n",
       "      <td>0.013679</td>\n",
       "      <td>0.884171</td>\n",
       "      <td>0.030556</td>\n",
       "      <td>1.0</td>\n",
       "    </tr>\n",
       "    <tr>\n",
       "      <th>2</th>\n",
       "      <td>2013</td>\n",
       "      <td>0.079771</td>\n",
       "      <td>0.016772</td>\n",
       "      <td>0.870117</td>\n",
       "      <td>0.033340</td>\n",
       "      <td>1.0</td>\n",
       "    </tr>\n",
       "    <tr>\n",
       "      <th>3</th>\n",
       "      <td>2014</td>\n",
       "      <td>0.078733</td>\n",
       "      <td>0.017377</td>\n",
       "      <td>0.844687</td>\n",
       "      <td>0.059203</td>\n",
       "      <td>1.0</td>\n",
       "    </tr>\n",
       "    <tr>\n",
       "      <th>4</th>\n",
       "      <td>2015</td>\n",
       "      <td>0.080250</td>\n",
       "      <td>0.017240</td>\n",
       "      <td>0.849481</td>\n",
       "      <td>0.053030</td>\n",
       "      <td>1.0</td>\n",
       "    </tr>\n",
       "    <tr>\n",
       "      <th>5</th>\n",
       "      <td>2016</td>\n",
       "      <td>0.088762</td>\n",
       "      <td>0.023934</td>\n",
       "      <td>0.844508</td>\n",
       "      <td>0.042796</td>\n",
       "      <td>1.0</td>\n",
       "    </tr>\n",
       "    <tr>\n",
       "      <th>6</th>\n",
       "      <td>2017</td>\n",
       "      <td>0.095018</td>\n",
       "      <td>0.019795</td>\n",
       "      <td>0.840977</td>\n",
       "      <td>0.044210</td>\n",
       "      <td>1.0</td>\n",
       "    </tr>\n",
       "    <tr>\n",
       "      <th>7</th>\n",
       "      <td>2018</td>\n",
       "      <td>0.141523</td>\n",
       "      <td>0.014908</td>\n",
       "      <td>0.793480</td>\n",
       "      <td>0.050089</td>\n",
       "      <td>1.0</td>\n",
       "    </tr>\n",
       "  </tbody>\n",
       "</table>\n",
       "</div>"
      ],
      "text/plain": [
       "   year      zero       low      good      high  sum\n",
       "0  2011  0.026906  0.007397  0.950109  0.015588  1.0\n",
       "1  2012  0.071594  0.013679  0.884171  0.030556  1.0\n",
       "2  2013  0.079771  0.016772  0.870117  0.033340  1.0\n",
       "3  2014  0.078733  0.017377  0.844687  0.059203  1.0\n",
       "4  2015  0.080250  0.017240  0.849481  0.053030  1.0\n",
       "5  2016  0.088762  0.023934  0.844508  0.042796  1.0\n",
       "6  2017  0.095018  0.019795  0.840977  0.044210  1.0\n",
       "7  2018  0.141523  0.014908  0.793480  0.050089  1.0"
      ]
     },
     "execution_count": 203,
     "metadata": {},
     "output_type": "execute_result"
    }
   ],
   "source": [
    "#find how many samples were zero, below, at, or above the appropriate chlorie levels (0.2 to 1.5 ppm is used here as the cut off)\n",
    "\n",
    "classification = {'year':[],'zero':[], 'low':[], 'good':[], 'high':[]}\n",
    "for year in [2011,2012,2013,2014,2015,2016,2017,2018]:\n",
    "    classification['year'].append(year)\n",
    "    year_total = data.loc[(data['date'].dt.year == year),'chlorine_avg'].count()\n",
    "    \n",
    "    classification['zero'].append(\n",
    "        (data.loc[(data['date'].dt.year == year) & (data['chlorine_avg'] == 0),'chlorine_avg'].count())/(year_total)\n",
    "    )\n",
    "    classification['low'].append(\n",
    "        (data.loc[(data['date'].dt.year == year) & (data['chlorine_avg'] > 0) & (data['chlorine_avg'] < 0.2),'chlorine_avg'].count())/(year_total)\n",
    "    )\n",
    "    classification['good'].append(\n",
    "        (data.loc[(data['date'].dt.year == year) & (data['chlorine_avg'] <= 1.5) & (data['chlorine_avg'] >= 0.2)].count()[0])/(year_total)\n",
    "    )\n",
    "    classification['high'].append(\n",
    "        (data.loc[(data['date'].dt.year == year) & (data['chlorine_avg'] > 1.5),'chlorine_avg'].count())/(year_total)\n",
    "    )\n",
    "classification_df = pd.DataFrame(classification)\n",
    "\n",
    "#check to see if sum is one\n",
    "classification_df['sum'] = classification_df['zero'] + classification_df['low'] + classification_df['good'] + classification_df['high']\n",
    "classification_df"
   ]
  },
  {
   "cell_type": "code",
   "execution_count": 209,
   "metadata": {},
   "outputs": [
    {
     "data": {
      "text/plain": [
       "Text(0,0.5,'Chlorine Level (ppm)')"
      ]
     },
     "execution_count": 209,
     "metadata": {},
     "output_type": "execute_result"
    },
    {
     "data": {
      "image/png": "[encoded data removed]",
      "text/plain": [
       "<Figure size 1080x576 with 1 Axes>"
      ]
     },
     "metadata": {},
     "output_type": "display_data"
    }
   ],
   "source": [
    "plt.figure(figsize=(15,8))\n",
    "plt.plot(classification_df.year, classification_df.zero, color='red')\n",
    "plt.plot(classification_df.year, classification_df.low, color='orange')\n",
    "plt.plot(classification_df.year, classification_df.good, color='green')\n",
    "plt.plot(classification_df.year, classification_df.high, color='purple')\n",
    "plt.legend(fontsize = 16)\n",
    "plt.title('Percentage of Household Water Samples classified with zero, low, good, or high Chlorine Levels over Time', fontsize = 15)\n",
    "plt.xlabel('years', fontsize = 14)\n",
    "plt.ylabel('Chlorine Level (ppm)', fontsize = 14)\n"
   ]
  },
  {
   "cell_type": "markdown",
   "metadata": {},
   "source": [
    "#### We can see that the percentage of samples that are classified within the appropraite level are dropping while the number of samples with no chlorine are increasing. The high and low levels appear to be fairly stagnant. It appears that the drop in samples in good range is being accounted for in the number of samples that don't have any chlorine at all which is of concern. Further exploration of wheather the drop in appropriately chlorinatd water is happening across all the delegacions or more steeply in certain locals is worth looking into. "
   ]
  }
 ],
 "metadata": {
  "kernelspec": {
   "display_name": "Python 3",
   "language": "python",
   "name": "python3"
  },
  "language_info": {
   "codemirror_mode": {
    "name": "ipython",
    "version": 3
   },
   "file_extension": ".py",
   "mimetype": "text/x-python",
   "name": "python",
   "nbconvert_exporter": "python",
   "pygments_lexer": "ipython3",
   "version": "3.6.5"
  }
 },
 "nbformat": 4,
 "nbformat_minor": 2
}
